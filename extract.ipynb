{
  "cells": [
    {
      "cell_type": "markdown",
      "source": [
        "# Script for reduce dataset to lower sample count.\n",
        "**Execute in local machine and upload the extracted file**\n",
        "\n",
        "```\n",
        "############################\n",
        "# Coded by Tan Jing Jie\n",
        "############################\n",
        "```\n"
      ],
      "metadata": {
        "id": "TzAhsDiq5taI"
      }
    },
    {
      "cell_type": "markdown",
      "source": [
        "## Step 1. Import Library"
      ],
      "metadata": {
        "id": "r8ojZfCU5Wed"
      }
    },
    {
      "cell_type": "code",
      "execution_count": null,
      "metadata": {
        "id": "bIhw6oeH5TUI"
      },
      "outputs": [],
      "source": [
        "import os\n",
        "import shutil"
      ]
    },
    {
      "cell_type": "markdown",
      "source": [
        "## Step 2. Prepare function to loop the directory and extract the dataset evenly "
      ],
      "metadata": {
        "id": "HifeCd1m5ZMu"
      }
    },
    {
      "cell_type": "code",
      "execution_count": null,
      "metadata": {
        "id": "iBnH7t7V5TUM"
      },
      "outputs": [],
      "source": [
        "def split(num):\n",
        "    skip = int(3000/num)\n",
        "    dir_list = os.listdir(os.getcwd()+\"/asl_alphabet_train/\")\n",
        "    for dir in dir_list:\n",
        "        img_dir_name = os.getcwd()+\"/asl_alphabet_train/\"+dir+\"/\"\n",
        "        img_list = os.listdir(img_dir_name)\n",
        "\n",
        "        #output file\n",
        "        path_name = os.getcwd()+\"/extracted_2/\"+dir\n",
        "        if not os.path.exists(path_name):\n",
        "            os.makedirs(path_name)\n",
        "\n",
        "        for i in range (0,3000,skip):\n",
        "            photo=img_list[i]\n",
        "            shutil.copy(img_dir_name+photo,path_name+\"/\"+photo)\n",
        "            if i+skip >= 3000:\n",
        "                print(\"The current directory:\",dir,\" -->\",\"Completed\")\n",
        "    \n",
        "        "
      ]
    },
    {
      "cell_type": "markdown",
      "source": [
        "# Step 3 Execute"
      ],
      "metadata": {
        "id": "7i7_4kG96V7H"
      }
    },
    {
      "cell_type": "code",
      "source": [
        "split(125) # size for 1 class is 125"
      ],
      "metadata": {
        "id": "m404XriEBIU7"
      },
      "execution_count": null,
      "outputs": []
    },
    {
      "cell_type": "markdown",
      "source": [
        "End of Script\n",
        "---"
      ],
      "metadata": {
        "id": "EDhnfFh86d-B"
      }
    }
  ],
  "metadata": {
    "interpreter": {
      "hash": "25ac260de047bb7b9b17b5f3ee661f251ff5b9af79f609905ab67fc01484a8de"
    },
    "kernelspec": {
      "display_name": "Python 3.9.7 64-bit",
      "language": "python",
      "name": "python3"
    },
    "language_info": {
      "codemirror_mode": {
        "name": "ipython",
        "version": 3
      },
      "file_extension": ".py",
      "mimetype": "text/x-python",
      "name": "python",
      "nbconvert_exporter": "python",
      "pygments_lexer": "ipython3",
      "version": "3.9.7"
    },
    "orig_nbformat": 4,
    "colab": {
      "name": "extract.ipynb",
      "provenance": [],
      "collapsed_sections": [],
      "toc_visible": true
    }
  },
  "nbformat": 4,
  "nbformat_minor": 0
}